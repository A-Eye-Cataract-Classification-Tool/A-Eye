{
 "cells": [
  {
   "cell_type": "code",
   "execution_count": null,
   "id": "60fe68b7",
   "metadata": {},
   "outputs": [],
   "source": [
    "import numpy as np\n",
    "import torch\n",
    "import matplotlib.pyplot as plt\n",
    "import pandas as pd\n",
    "\n",
    "# === Load Data ===\n",
    "npy_data = np.load(\"radial_pos_enc.npy\")\n",
    "pt_data = torch.load(\"radial_pos_enc.pt\")\n",
    "\n",
    "# === Print Shapes ===\n",
    "print(\"NPY shape:\", npy_data.shape)\n",
    "print(\"PT shape:\", pt_data.shape)\n",
    "\n",
    "# === Display First Ring Vector from Batch 1 ===\n",
    "print(\"\\nNPY - Batch 1, Ring 1 vector (first 10 dims):\")\n",
    "print(npy_data[0, 0][:10])\n",
    "\n",
    "print(\"\\nPT - Batch 1, Ring 1 vector (first 10 dims):\")\n",
    "print(pt_data[0, 0][:10])\n",
    "\n",
    "# === Visualize All 4 Ring Embeddings ===\n",
    "plt.figure(figsize=(10, 4))\n",
    "for ring in range(npy_data.shape[1]):\n",
    "    plt.plot(npy_data[0, ring], label=f\"Ring {ring+1}\")\n",
    "plt.title(\"Learnable Positional Embeddings (Batch 1)\")\n",
    "plt.xlabel(\"Embedding Dimension\")\n",
    "plt.ylabel(\"Value\")\n",
    "plt.legend()\n",
    "plt.tight_layout()\n",
    "plt.show()\n",
    "\n",
    "# === Display Full Ring Vectors in Table ===\n",
    "df = pd.DataFrame(npy_data[0], index=[f\"Ring {i+1}\" for i in range(4)])\n",
    "df.columns = [f\"D{i}\" for i in range(npy_data.shape[2])]\n",
    "df"
   ]
  }
 ],
 "metadata": {
  "kernelspec": {
   "display_name": "Python 3",
   "language": "python",
   "name": "python3"
  },
  "language_info": {
   "codemirror_mode": {
    "name": "ipython",
    "version": 3
   },
   "file_extension": ".py",
   "mimetype": "text/x-python",
   "name": "python",
   "nbconvert_exporter": "python",
   "pygments_lexer": "ipython3",
   "version": "3.13.5"
  }
 },
 "nbformat": 4,
 "nbformat_minor": 5
}
