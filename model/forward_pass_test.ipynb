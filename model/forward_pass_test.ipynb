{
 "cells": [
  {
   "cell_type": "code",
   "execution_count": null,
   "id": "ff1470db",
   "metadata": {
    "vscode": {
     "languageId": "plaintext"
    }
   },
   "outputs": [],
   "source": [
    "import torch\n",
    "from model.modified_mobilevit import ModifiedMobileViT\n",
    "from radial_tokenizer.radial_tokenizer import extract_radial_tokens\n",
    "from radial_tokenizer.radial_positional_encoding import get_radial_positional_encoding\n",
    "from postprocessing.estimate_opacity_coverage import estimate_opacity_percent, estimate_coverage_percent\n",
    "\n",
    "image = cv2.imread(\"test_image.jpg\")  # shape [128, 128, 3]\n",
    "tokens = extract_radial_tokens(image)  # [1, 4, 9]\n",
    "pos_enc = get_radial_positional_encoding()  # [1, 4, 192]\n",
    "\n",
    "tokens_tensor = torch.tensor(tokens).float()\n",
    "pos_enc_tensor = torch.tensor(pos_enc).float()\n",
    "\n",
    "model = ModifiedMobileViT()\n",
    "output = model(tokens_tensor, pos_enc_tensor)\n",
    "\n",
    "opacity = estimate_opacity_percent(tokens[0])\n",
    "coverage = estimate_coverage_percent(tokens[0])\n",
    "\n",
    "print(f\"Prediction: {'Mature' if output.item() > 0.5 else 'Immature'}\")\n",
    "print(f\"Opacity: {opacity:.2f} %\")\n",
    "print(f\"Coverage: {coverage} %\")"
   ]
  }
 ],
 "metadata": {
  "language_info": {
   "name": "python"
  }
 },
 "nbformat": 4,
 "nbformat_minor": 5
}
