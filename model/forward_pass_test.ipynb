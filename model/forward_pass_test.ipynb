{
 "cells": [
  {
   "cell_type": "code",
   "execution_count": null,
   "id": "ff1470db",
   "metadata": {
    "vscode": {
     "languageId": "plaintext"
    }
   },
   "outputs": [],
   "source": [
    "import torch\n",
    "from model.modified_mobilevit import ModifiedMobileViT\n",
    "\n",
    "# Simulate radial tokens and encodings\n",
    "tokens = torch.randn(1, 4, 9)\n",
    "pos_enc = torch.randn(1, 4, 192)\n",
    "\n",
    "# Initialize model and forward pass\n",
    "model = ModifiedMobileViT()\n",
    "output = model(tokens, pos_enc)  # shape: [1, 1], maturity score"
   ]
  }
 ],
 "metadata": {
  "language_info": {
   "name": "python"
  }
 },
 "nbformat": 4,
 "nbformat_minor": 5
}
